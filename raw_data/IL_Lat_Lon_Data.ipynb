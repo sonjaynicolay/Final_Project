{
 "cells": [
  {
   "cell_type": "code",
   "execution_count": 1,
   "metadata": {},
   "outputs": [],
   "source": [
    "import os\n",
    "import numpy as np\n",
    "import pandas as pd\n",
    "import seaborn as sns\n",
    "import matplotlib.pyplot as plt"
   ]
  },
  {
   "cell_type": "code",
   "execution_count": 2,
   "metadata": {
    "scrolled": false
   },
   "outputs": [
    {
     "data": {
      "text/plain": [
       "<bound method NDFrame.head of      Unnamed: 0 vio_crime  murder_mansl rape robbery agg_assault prop_crime  \\\n",
       "0       Addison        61             1   18       6          36        464   \n",
       "1        Albany         1             0    1       0           0          6   \n",
       "2         Aledo         0             0    0       0           0         26   \n",
       "3        Alexis         0             0    0       0           0         15   \n",
       "4     Algonquin        27             0    7       4          16        265   \n",
       "..          ...       ...           ...  ...     ...         ...        ...   \n",
       "516   Woodstock        24             0   10       2          12        298   \n",
       "517       Worth        26             0   11       7           8        123   \n",
       "518  Yates City         1             0    1       0           0          8   \n",
       "519   Yorkville        18             0    8       3           7        200   \n",
       "520        Zion       148             4   36      45          63        721   \n",
       "\n",
       "    burglary lar_theft car_theft  arson  \n",
       "0         65       361        38    4.0  \n",
       "1          2         4         0    0.0  \n",
       "2          3        23         0    0.0  \n",
       "3          7         4         4    0.0  \n",
       "4         18       243         4    0.0  \n",
       "..       ...       ...       ...    ...  \n",
       "516       27       266         5    0.0  \n",
       "517       21        92        10    1.0  \n",
       "518        1         7         0    0.0  \n",
       "519       17       178         5    2.0  \n",
       "520      129       553        39    4.0  \n",
       "\n",
       "[521 rows x 11 columns]>"
      ]
     },
     "execution_count": 2,
     "metadata": {},
     "output_type": "execute_result"
    }
   ],
   "source": [
    "crime_data = pd.read_csv('./crime_data.csv')\n",
    "zip_to_city = pd.read_csv('./zipcode_to_city.csv')\n",
    "crime_data.head"
   ]
  },
  {
   "cell_type": "code",
   "execution_count": 3,
   "metadata": {},
   "outputs": [
    {
     "data": {
      "text/plain": [
       "['Unnamed: 0',\n",
       " 'vio_crime',\n",
       " 'murder_mansl',\n",
       " 'rape',\n",
       " 'robbery',\n",
       " 'agg_assault',\n",
       " 'prop_crime',\n",
       " 'burglary',\n",
       " 'lar_theft',\n",
       " 'car_theft',\n",
       " 'arson']"
      ]
     },
     "execution_count": 3,
     "metadata": {},
     "output_type": "execute_result"
    }
   ],
   "source": [
    "list(crime_data)"
   ]
  },
  {
   "cell_type": "code",
   "execution_count": 4,
   "metadata": {},
   "outputs": [
    {
     "data": {
      "text/plain": [
       "<bound method NDFrame.head of       Zip Code               City\n",
       "0        60001              Alden\n",
       "1        60002            Antioch\n",
       "2        60004  Arlington Heights\n",
       "3        60005  Arlington Heights\n",
       "4        60006  Arlington Heights\n",
       "...        ...                ...\n",
       "1582     62995             Vienna\n",
       "1583     62996        Villa Ridge\n",
       "1584     62997        Willisville\n",
       "1585     62998          Wolf Lake\n",
       "1586     62999            Zeigler\n",
       "\n",
       "[1587 rows x 2 columns]>"
      ]
     },
     "execution_count": 4,
     "metadata": {},
     "output_type": "execute_result"
    }
   ],
   "source": [
    "zip_to_city.head"
   ]
  },
  {
   "cell_type": "code",
   "execution_count": 5,
   "metadata": {},
   "outputs": [
    {
     "data": {
      "text/plain": [
       "['Zip Code', 'City']"
      ]
     },
     "execution_count": 5,
     "metadata": {},
     "output_type": "execute_result"
    }
   ],
   "source": [
    "list(zip_to_city)"
   ]
  },
  {
   "cell_type": "code",
   "execution_count": 6,
   "metadata": {},
   "outputs": [
    {
     "name": "stdout",
     "output_type": "stream",
     "text": [
      "Index(['Zip Code', 'City'], dtype='object')\n",
      "\n",
      "\n",
      "Index(['City', 'vio_crime', 'murder_mansl', 'rape', 'robbery', 'agg_assault',\n",
      "       'prop_crime', 'burglary', 'lar_theft', 'car_theft', 'arson'],\n",
      "      dtype='object')\n",
      "0         Addison\n",
      "1          Albany\n",
      "2           Aledo\n",
      "3          Alexis\n",
      "4       Algonquin\n",
      "          ...    \n",
      "516     Woodstock\n",
      "517         Worth\n",
      "518    Yates City\n",
      "519     Yorkville\n",
      "520          Zion\n",
      "Name: City, Length: 521, dtype: object\n"
     ]
    }
   ],
   "source": [
    "\n",
    "# renamed the column Unnamed: 0 to city for crime_data dataframe\n",
    "\n",
    "# rename -> https://www.geeksforgeeks.org/how-to-rename-columns-in-pandas-dataframe/\n",
    "crime_data.rename(columns = {'Unnamed: 0':'City'}, inplace = True) \n",
    "\n",
    "print(zip_to_city.columns)\n",
    "print('\\n')\n",
    "print(crime_data.columns)\n",
    "\n",
    "print(crime_data[crime_data.columns[0]])"
   ]
  },
  {
   "cell_type": "code",
   "execution_count": 7,
   "metadata": {},
   "outputs": [
    {
     "data": {
      "text/plain": [
       "<bound method NDFrame.head of      Zip Code               City vio_crime  murder_mansl rape robbery  \\\n",
       "0       60002            Antioch        20             0    8       2   \n",
       "1       60004  Arlington Heights        28             0   10       6   \n",
       "2       60005  Arlington Heights        28             0   10       6   \n",
       "3       60006  Arlington Heights        28             0   10       6   \n",
       "4       60007  Elk Grove Village        23             0    3       9   \n",
       "..        ...                ...       ...           ...  ...     ...   \n",
       "715     62948             Herrin        35             0    5       7   \n",
       "716     62960         Metropolis        33             0    7       2   \n",
       "717     62966        Murphysboro        53             0    9       4   \n",
       "718     62984        Shawneetown         5             0    0       0   \n",
       "719     62995             Vienna         0             0    0       0   \n",
       "\n",
       "    agg_assault prop_crime burglary lar_theft car_theft  arson  \n",
       "0            10        165       12       150         3    0.0  \n",
       "1            12        628       68       535        25    1.0  \n",
       "2            12        628       68       535        25    1.0  \n",
       "3            12        628       68       535        25    1.0  \n",
       "4            11        485       35       391        59    3.0  \n",
       "..          ...        ...      ...       ...       ...    ...  \n",
       "715          23        376       92       264        20    1.0  \n",
       "716          24        359       68       273        18    1.0  \n",
       "717          40        231       82       144         5    0.0  \n",
       "718           5         13        7         6         0    0.0  \n",
       "719           0         14        2         9         3    0.0  \n",
       "\n",
       "[720 rows x 12 columns]>"
      ]
     },
     "execution_count": 7,
     "metadata": {},
     "output_type": "execute_result"
    }
   ],
   "source": [
    "\n",
    "# merged left_on = 'City', right_on = 'City' \n",
    "\n",
    "# merge -> https://stackoverflow.com/questions/20375561/joining-pandas-dataframes-by-column-names\n",
    "\n",
    "\n",
    "crime_by_zip = pd.merge(zip_to_city, crime_data, left_on = 'City', right_on = 'City')\n",
    "crime_by_zip.fillna(0, inplace=True)\n",
    "crime_by_zip.head"
   ]
  },
  {
   "cell_type": "code",
   "execution_count": 8,
   "metadata": {},
   "outputs": [],
   "source": [
    "coord_file = \"us-zip-code-latitude-and-longitude.csv\"\n",
    "coordinates = pd.read_csv(coord_file,sep=';')"
   ]
  },
  {
   "cell_type": "code",
   "execution_count": 9,
   "metadata": {},
   "outputs": [
    {
     "name": "stdout",
     "output_type": "stream",
     "text": [
      "         Zip        City State   Latitude  Longitude  Timezone  \\\n",
      "0       5769   Salisbury    VT  43.914026 -73.107030        -5   \n",
      "1       1085   Westfield    MA  42.133642 -72.750290        -5   \n",
      "2       1340     Colrain    MA  42.673371 -72.731040        -5   \n",
      "3      25728  Huntington    WV  38.413384 -82.277401        -5   \n",
      "4      26035    Colliers    WV  40.352943 -80.555850        -5   \n",
      "...      ...         ...   ...        ...        ...       ...   \n",
      "43186  50157      Malcom    IA  41.738800 -92.561550        -6   \n",
      "43187  65212    Columbia    MO  38.937608 -92.330430        -6   \n",
      "43188  11935   Cutchogue    NY  41.012868 -72.472300        -5   \n",
      "43189  63539       Ethel    MO  39.893011 -92.745030        -6   \n",
      "43190  39051    Carthage    MS  32.785139 -89.506440        -6   \n",
      "\n",
      "       Daylight savings time flag              geopoint  \n",
      "0                               1   43.914026,-73.10703  \n",
      "1                               1   42.133642,-72.75029  \n",
      "2                               1   42.673371,-72.73104  \n",
      "3                               1  38.413384,-82.277401  \n",
      "4                               1   40.352943,-80.55585  \n",
      "...                           ...                   ...  \n",
      "43186                           1     41.7388,-92.56155  \n",
      "43187                           1   38.937608,-92.33043  \n",
      "43188                           1    41.012868,-72.4723  \n",
      "43189                           1   39.893011,-92.74503  \n",
      "43190                           1   32.785139,-89.50644  \n",
      "\n",
      "[43191 rows x 8 columns]\n"
     ]
    }
   ],
   "source": [
    "print(coordinates)"
   ]
  },
  {
   "cell_type": "code",
   "execution_count": 10,
   "metadata": {},
   "outputs": [],
   "source": [
    "coordinates.rename(columns = {'Zip':'Zip Code'}, inplace = True) "
   ]
  },
  {
   "cell_type": "code",
   "execution_count": 11,
   "metadata": {},
   "outputs": [
    {
     "name": "stdout",
     "output_type": "stream",
     "text": [
      "       Zip Code        City State   Latitude  Longitude  Timezone  \\\n",
      "0          5769   Salisbury    VT  43.914026 -73.107030        -5   \n",
      "1          1085   Westfield    MA  42.133642 -72.750290        -5   \n",
      "2          1340     Colrain    MA  42.673371 -72.731040        -5   \n",
      "3         25728  Huntington    WV  38.413384 -82.277401        -5   \n",
      "4         26035    Colliers    WV  40.352943 -80.555850        -5   \n",
      "...         ...         ...   ...        ...        ...       ...   \n",
      "43186     50157      Malcom    IA  41.738800 -92.561550        -6   \n",
      "43187     65212    Columbia    MO  38.937608 -92.330430        -6   \n",
      "43188     11935   Cutchogue    NY  41.012868 -72.472300        -5   \n",
      "43189     63539       Ethel    MO  39.893011 -92.745030        -6   \n",
      "43190     39051    Carthage    MS  32.785139 -89.506440        -6   \n",
      "\n",
      "       Daylight savings time flag              geopoint  \n",
      "0                               1   43.914026,-73.10703  \n",
      "1                               1   42.133642,-72.75029  \n",
      "2                               1   42.673371,-72.73104  \n",
      "3                               1  38.413384,-82.277401  \n",
      "4                               1   40.352943,-80.55585  \n",
      "...                           ...                   ...  \n",
      "43186                           1     41.7388,-92.56155  \n",
      "43187                           1   38.937608,-92.33043  \n",
      "43188                           1    41.012868,-72.4723  \n",
      "43189                           1   39.893011,-92.74503  \n",
      "43190                           1   32.785139,-89.50644  \n",
      "\n",
      "[43191 rows x 8 columns]\n"
     ]
    }
   ],
   "source": [
    "print(coordinates)"
   ]
  },
  {
   "cell_type": "code",
   "execution_count": 12,
   "metadata": {},
   "outputs": [
    {
     "data": {
      "text/plain": [
       "<seaborn.axisgrid.PairGrid at 0x2365b85cc08>"
      ]
     },
     "execution_count": 12,
     "metadata": {},
     "output_type": "execute_result"
    },
    {
     "data": {
      "image/png": "[encoded data removed]",
      "text/plain": [
       "<Figure size 540x540 with 12 Axes>"
      ]
     },
     "metadata": {
      "needs_background": "light"
     },
     "output_type": "display_data"
    }
   ],
   "source": [
    "sns.pairplot(crime_by_zip)"
   ]
  },
  {
   "cell_type": "code",
   "execution_count": 13,
   "metadata": {
    "scrolled": false
   },
   "outputs": [
    {
     "data": {
      "text/plain": [
       "<bound method NDFrame.head of      Zip Code             City_x vio_crime  murder_mansl rape robbery  \\\n",
       "0       60002            Antioch        20             0    8       2   \n",
       "1       60004  Arlington Heights        28             0   10       6   \n",
       "2       60005  Arlington Heights        28             0   10       6   \n",
       "3       60006  Arlington Heights        28             0   10       6   \n",
       "4       60007  Elk Grove Village        23             0    3       9   \n",
       "..        ...                ...       ...           ...  ...     ...   \n",
       "715     62948             Herrin        35             0    5       7   \n",
       "716     62960         Metropolis        33             0    7       2   \n",
       "717     62966        Murphysboro        53             0    9       4   \n",
       "718     62984        Shawneetown         5             0    0       0   \n",
       "719     62995             Vienna         0             0    0       0   \n",
       "\n",
       "    agg_assault prop_crime burglary lar_theft car_theft  arson  \\\n",
       "0            10        165       12       150         3    0.0   \n",
       "1            12        628       68       535        25    1.0   \n",
       "2            12        628       68       535        25    1.0   \n",
       "3            12        628       68       535        25    1.0   \n",
       "4            11        485       35       391        59    3.0   \n",
       "..          ...        ...      ...       ...       ...    ...   \n",
       "715          23        376       92       264        20    1.0   \n",
       "716          24        359       68       273        18    1.0   \n",
       "717          40        231       82       144         5    0.0   \n",
       "718           5         13        7         6         0    0.0   \n",
       "719           0         14        2         9         3    0.0   \n",
       "\n",
       "                City_y State   Latitude  Longitude  Timezone  \\\n",
       "0              Antioch    IL  42.466170  -88.09995      -6.0   \n",
       "1    Arlington Heights    IL  42.108428  -87.97723      -6.0   \n",
       "2    Arlington Heights    IL  42.069327  -87.98464      -6.0   \n",
       "3    Arlington Heights    IL  41.811929  -87.68732      -6.0   \n",
       "4    Elk Grove Village    IL  42.005978  -87.99847      -6.0   \n",
       "..                 ...   ...        ...        ...       ...   \n",
       "715             Herrin    IL  37.804014  -89.02702      -6.0   \n",
       "716         Metropolis    IL  37.183080  -88.73327      -6.0   \n",
       "717        Murphysboro    IL  37.771806  -89.33971      -6.0   \n",
       "718        Shawneetown    IL  37.712847  -88.16553      -6.0   \n",
       "719             Vienna    IL  37.422815  -88.88016      -6.0   \n",
       "\n",
       "     Daylight savings time flag             geopoint  \n",
       "0                           1.0   42.46617,-88.09995  \n",
       "1                           1.0  42.108428,-87.97723  \n",
       "2                           1.0  42.069327,-87.98464  \n",
       "3                           1.0  41.811929,-87.68732  \n",
       "4                           1.0  42.005978,-87.99847  \n",
       "..                          ...                  ...  \n",
       "715                         1.0  37.804014,-89.02702  \n",
       "716                         1.0   37.18308,-88.73327  \n",
       "717                         1.0  37.771806,-89.33971  \n",
       "718                         1.0  37.712847,-88.16553  \n",
       "719                         1.0  37.422815,-88.88016  \n",
       "\n",
       "[720 rows x 19 columns]>"
      ]
     },
     "execution_count": 13,
     "metadata": {},
     "output_type": "execute_result"
    }
   ],
   "source": [
    "crime_coordinates = pd.merge(crime_by_zip, coordinates, how =\"left\", on = ['Zip Code'])\n",
    "crime_coordinates.head"
   ]
  },
  {
   "cell_type": "code",
   "execution_count": 14,
   "metadata": {},
   "outputs": [
    {
     "name": "stdout",
     "output_type": "stream",
     "text": [
      "Index(['Zip Code', 'City_x', 'vio_crime', 'murder_mansl', 'rape', 'robbery',\n",
      "       'agg_assault', 'prop_crime', 'burglary', 'lar_theft', 'car_theft',\n",
      "       'arson', 'City_y', 'State', 'Latitude', 'Longitude', 'Timezone',\n",
      "       'Daylight savings time flag', 'geopoint'],\n",
      "      dtype='object')\n"
     ]
    }
   ],
   "source": [
    "print(crime_coordinates.columns)"
   ]
  },
  {
   "cell_type": "code",
   "execution_count": 15,
   "metadata": {
    "scrolled": false
   },
   "outputs": [],
   "source": [
    "crime_coordinates.drop(columns=['geopoint', 'Daylight savings time flag', 'Timezone', 'State', 'City_y' ], inplace = True)"
   ]
  },
  {
   "cell_type": "code",
   "execution_count": 16,
   "metadata": {},
   "outputs": [],
   "source": [
    "crime_coordinates.rename(columns = {'City_x':'City'}, inplace = True) "
   ]
  },
  {
   "cell_type": "code",
   "execution_count": 17,
   "metadata": {
    "scrolled": true
   },
   "outputs": [
    {
     "name": "stdout",
     "output_type": "stream",
     "text": [
      "Index(['Zip Code', 'City', 'vio_crime', 'murder_mansl', 'rape', 'robbery',\n",
      "       'agg_assault', 'prop_crime', 'burglary', 'lar_theft', 'car_theft',\n",
      "       'arson', 'Latitude', 'Longitude'],\n",
      "      dtype='object')\n"
     ]
    }
   ],
   "source": [
    "print(crime_coordinates.columns)"
   ]
  },
  {
   "cell_type": "code",
   "execution_count": null,
   "metadata": {},
   "outputs": [],
   "source": [
    "\n"
   ]
  }
 ],
 "metadata": {
  "kernelspec": {
   "display_name": "Python 3",
   "language": "python",
   "name": "python3"
  },
  "language_info": {
   "codemirror_mode": {
    "name": "ipython",
    "version": 3
   },
   "file_extension": ".py",
   "mimetype": "text/x-python",
   "name": "python",
   "nbconvert_exporter": "python",
   "pygments_lexer": "ipython3",
   "version": "3.7.7"
  }
 },
 "nbformat": 4,
 "nbformat_minor": 4
}

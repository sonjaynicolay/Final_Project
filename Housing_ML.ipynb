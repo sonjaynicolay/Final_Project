{
 "cells": [
  {
   "cell_type": "code",
   "execution_count": 18,
   "metadata": {},
   "outputs": [],
   "source": [
    "# Import dependencies\n",
    "from sklearn.model_selection import train_test_split\n",
    "from sklearn.preprocessing import StandardScaler, MinMaxScaler\n",
    "from sklearn.preprocessing import OneHotEncoder\n",
    "from sklearn.ensemble import RandomForestClassifier\n",
    "from sklearn.metrics import accuracy_score\n",
    "import pandas as pd\n",
    "import tensorflow as tf\n",
    "from config import password\n"
   ]
  },
  {
   "cell_type": "code",
   "execution_count": 19,
   "metadata": {},
   "outputs": [],
   "source": [
    "# Load the dataset from database\n",
    "import psycopg2\n",
    "from sqlalchemy import create_engine\n",
    "POSTGRES_ADDRESS = \"finalproject.c969jxlkzz2v.us-east-2.rds.amazonaws.com\"\n",
    "POSTGRES_PORT = '5432'\n",
    "POSTGRES_USERNAME = \"postgres\"\n",
    "POSTGRES_PASSWORD = password\n",
    "POSTGRES_DBNAME = \"postgres\"\n",
    "\n",
    "# Connect to postgres\n",
    "postgres_str = ('postgresql://{username}:{password}@{ipaddress}:{port}/{dbname}'\n",
    "               .format(username=POSTGRES_USERNAME,\n",
    "                      password=POSTGRES_PASSWORD,\n",
    "                      ipaddress=POSTGRES_ADDRESS,\n",
    "                      port=POSTGRES_PORT,\n",
    "                      dbname=POSTGRES_DBNAME))\n",
    "# Create an engine instance\n",
    "\n",
    "cnx = create_engine(postgres_str)"
   ]
  },
  {
   "cell_type": "code",
   "execution_count": 10,
   "metadata": {},
   "outputs": [],
   "source": [
    "# Connect to PostgreSQL server\n",
    "\n",
    "# dbConnection    = alchemyEngine.connect();\n",
    "\n"
   ]
  },
  {
   "cell_type": "code",
   "execution_count": null,
   "metadata": {},
   "outputs": [],
   "source": []
  }
 ],
 "metadata": {
  "kernelspec": {
   "display_name": "PythonData",
   "language": "python",
   "name": "pythondata"
  },
  "language_info": {
   "codemirror_mode": {
    "name": "ipython",
    "version": 3
   },
   "file_extension": ".py",
   "mimetype": "text/x-python",
   "name": "python",
   "nbconvert_exporter": "python",
   "pygments_lexer": "ipython3",
   "version": "3.8.3"
  }
 },
 "nbformat": 4,
 "nbformat_minor": 4
}

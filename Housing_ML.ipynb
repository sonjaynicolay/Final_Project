{
 "cells": [
  {
   "cell_type": "markdown",
   "metadata": {},
   "source": [
    "## Dependencies "
   ]
  },
  {
   "cell_type": "code",
   "execution_count": 1,
   "metadata": {},
   "outputs": [],
   "source": [
    "# Import dependencies\n",
    "from sklearn.model_selection import train_test_split\n",
    "from sklearn.preprocessing import StandardScaler, MinMaxScaler\n",
    "from sklearn.preprocessing import OneHotEncoder\n",
    "from sklearn.ensemble import RandomForestClassifier\n",
    "from sklearn.metrics import accuracy_score\n",
    "import pandas as pd\n",
    "import tensorflow as tf\n",
    "from config import password\n"
   ]
  },
  {
   "cell_type": "code",
   "execution_count": 2,
   "metadata": {},
   "outputs": [],
   "source": [
    "# Database dependencies\n",
    "import psycopg2\n",
    "import sqlalchemy\n",
    "from sqlalchemy import create_engine\n",
    "\n",
    "# Database credentials\n",
    "DATABASES = {\n",
    "    'finalproject':{\n",
    "        'POSTGRES_ADDRESS' :'finalproject.c969jxlkzz2v.us-east-2.rds.amazonaws.com',\n",
    "        'POSTGRES_PORT' : '5432',\n",
    "        'POSTGRES_USERNAME' : \"postgres\",\n",
    "        'POSTGRES_PASSWORD' : password,\n",
    "        'POSTGRES_DBNAME' : 'housingdata',\n",
    "    },\n",
    "}\n",
    "\n",
    "# Choose the database to use\n",
    "db = DATABASES['finalproject']\n",
    "\n",
    "# Connect to postgres\n",
    "postgres_str = ('postgresql+psycopg2://{username}:{password}@{ipaddress}:{port}/{dbname}'\n",
    "               .format(username= db['POSTGRES_USERNAME'],\n",
    "                      password= db['POSTGRES_PASSWORD'],\n",
    "                      ipaddress= db['POSTGRES_ADDRESS'],\n",
    "                      port= db['POSTGRES_PORT'],\n",
    "                      dbname= db['POSTGRES_DBNAME'])\n",
    "               )\n",
    "\n",
    "# Create an database engine instance\n",
    "connection = create_engine(postgres_str)"
   ]
  },
  {
   "cell_type": "markdown",
   "metadata": {},
   "source": [
    "## Load the datasets"
   ]
  },
  {
   "cell_type": "code",
   "execution_count": 3,
   "metadata": {},
   "outputs": [
    {
     "data": {
      "text/html": [
       "<div>\n",
       "<style scoped>\n",
       "    .dataframe tbody tr th:only-of-type {\n",
       "        vertical-align: middle;\n",
       "    }\n",
       "\n",
       "    .dataframe tbody tr th {\n",
       "        vertical-align: top;\n",
       "    }\n",
       "\n",
       "    .dataframe thead th {\n",
       "        text-align: right;\n",
       "    }\n",
       "</style>\n",
       "<table border=\"1\" class=\"dataframe\">\n",
       "  <thead>\n",
       "    <tr style=\"text-align: right;\">\n",
       "      <th></th>\n",
       "      <th>region_name</th>\n",
       "      <th>zhvi</th>\n",
       "    </tr>\n",
       "  </thead>\n",
       "  <tbody>\n",
       "    <tr>\n",
       "      <th>0</th>\n",
       "      <td>Cook County</td>\n",
       "      <td>251567</td>\n",
       "    </tr>\n",
       "    <tr>\n",
       "      <th>1</th>\n",
       "      <td>DuPage County</td>\n",
       "      <td>324148</td>\n",
       "    </tr>\n",
       "    <tr>\n",
       "      <th>2</th>\n",
       "      <td>Lake County</td>\n",
       "      <td>252449</td>\n",
       "    </tr>\n",
       "    <tr>\n",
       "      <th>3</th>\n",
       "      <td>Will County</td>\n",
       "      <td>222828</td>\n",
       "    </tr>\n",
       "    <tr>\n",
       "      <th>4</th>\n",
       "      <td>Kane County</td>\n",
       "      <td>239271</td>\n",
       "    </tr>\n",
       "  </tbody>\n",
       "</table>\n",
       "</div>"
      ],
      "text/plain": [
       "     region_name    zhvi\n",
       "0    Cook County  251567\n",
       "1  DuPage County  324148\n",
       "2    Lake County  252449\n",
       "3    Will County  222828\n",
       "4    Kane County  239271"
      ]
     },
     "execution_count": 3,
     "metadata": {},
     "output_type": "execute_result"
    }
   ],
   "source": [
    "#Load zillow datasets\n",
    "zillow_df = pd.read_sql_table('zillow_data', connection)\n",
    "zillow_df.head()"
   ]
  },
  {
   "cell_type": "code",
   "execution_count": 4,
   "metadata": {},
   "outputs": [
    {
     "data": {
      "text/html": [
       "<div>\n",
       "<style scoped>\n",
       "    .dataframe tbody tr th:only-of-type {\n",
       "        vertical-align: middle;\n",
       "    }\n",
       "\n",
       "    .dataframe tbody tr th {\n",
       "        vertical-align: top;\n",
       "    }\n",
       "\n",
       "    .dataframe thead th {\n",
       "        text-align: right;\n",
       "    }\n",
       "</style>\n",
       "<table border=\"1\" class=\"dataframe\">\n",
       "  <thead>\n",
       "    <tr style=\"text-align: right;\">\n",
       "      <th></th>\n",
       "      <th>zipcode</th>\n",
       "      <th>total_pop</th>\n",
       "      <th>male</th>\n",
       "      <th>female</th>\n",
       "      <th>med_age</th>\n",
       "      <th>race_w</th>\n",
       "      <th>race_aa</th>\n",
       "      <th>race_nat</th>\n",
       "      <th>race_as</th>\n",
       "      <th>race_api</th>\n",
       "      <th>race_oth</th>\n",
       "      <th>eth_hisp</th>\n",
       "      <th>eth_nonhisp</th>\n",
       "    </tr>\n",
       "  </thead>\n",
       "  <tbody>\n",
       "    <tr>\n",
       "      <th>0</th>\n",
       "      <td>52761</td>\n",
       "      <td>30619</td>\n",
       "      <td>15205</td>\n",
       "      <td>15414</td>\n",
       "      <td>37.8</td>\n",
       "      <td>28856</td>\n",
       "      <td>1504</td>\n",
       "      <td>255</td>\n",
       "      <td>493</td>\n",
       "      <td>11</td>\n",
       "      <td>603</td>\n",
       "      <td>5480</td>\n",
       "      <td>25139</td>\n",
       "    </tr>\n",
       "    <tr>\n",
       "      <th>1</th>\n",
       "      <td>60002</td>\n",
       "      <td>24066</td>\n",
       "      <td>12076</td>\n",
       "      <td>11990</td>\n",
       "      <td>43.3</td>\n",
       "      <td>22792</td>\n",
       "      <td>869</td>\n",
       "      <td>89</td>\n",
       "      <td>630</td>\n",
       "      <td>31</td>\n",
       "      <td>402</td>\n",
       "      <td>1662</td>\n",
       "      <td>22404</td>\n",
       "    </tr>\n",
       "    <tr>\n",
       "      <th>2</th>\n",
       "      <td>60004</td>\n",
       "      <td>50915</td>\n",
       "      <td>24193</td>\n",
       "      <td>26722</td>\n",
       "      <td>43.0</td>\n",
       "      <td>43996</td>\n",
       "      <td>738</td>\n",
       "      <td>79</td>\n",
       "      <td>5458</td>\n",
       "      <td>116</td>\n",
       "      <td>1597</td>\n",
       "      <td>4013</td>\n",
       "      <td>46902</td>\n",
       "    </tr>\n",
       "    <tr>\n",
       "      <th>3</th>\n",
       "      <td>60005</td>\n",
       "      <td>29539</td>\n",
       "      <td>15040</td>\n",
       "      <td>14499</td>\n",
       "      <td>43.8</td>\n",
       "      <td>24937</td>\n",
       "      <td>892</td>\n",
       "      <td>143</td>\n",
       "      <td>2961</td>\n",
       "      <td>0</td>\n",
       "      <td>1089</td>\n",
       "      <td>3163</td>\n",
       "      <td>26376</td>\n",
       "    </tr>\n",
       "    <tr>\n",
       "      <th>4</th>\n",
       "      <td>60007</td>\n",
       "      <td>33420</td>\n",
       "      <td>16504</td>\n",
       "      <td>16916</td>\n",
       "      <td>43.8</td>\n",
       "      <td>28444</td>\n",
       "      <td>532</td>\n",
       "      <td>245</td>\n",
       "      <td>3680</td>\n",
       "      <td>24</td>\n",
       "      <td>1500</td>\n",
       "      <td>4020</td>\n",
       "      <td>29400</td>\n",
       "    </tr>\n",
       "  </tbody>\n",
       "</table>\n",
       "</div>"
      ],
      "text/plain": [
       "   zipcode  total_pop   male  female  med_age  race_w  race_aa  race_nat  \\\n",
       "0    52761      30619  15205   15414     37.8   28856     1504       255   \n",
       "1    60002      24066  12076   11990     43.3   22792      869        89   \n",
       "2    60004      50915  24193   26722     43.0   43996      738        79   \n",
       "3    60005      29539  15040   14499     43.8   24937      892       143   \n",
       "4    60007      33420  16504   16916     43.8   28444      532       245   \n",
       "\n",
       "   race_as  race_api  race_oth  eth_hisp  eth_nonhisp  \n",
       "0      493        11       603      5480        25139  \n",
       "1      630        31       402      1662        22404  \n",
       "2     5458       116      1597      4013        46902  \n",
       "3     2961         0      1089      3163        26376  \n",
       "4     3680        24      1500      4020        29400  "
      ]
     },
     "execution_count": 4,
     "metadata": {},
     "output_type": "execute_result"
    }
   ],
   "source": [
    "# Load acs datasets\n",
    "acs_df = pd.read_sql_table('acs_data', connection)\n",
    "acs_df.head()"
   ]
  },
  {
   "cell_type": "markdown",
   "metadata": {},
   "source": [
    "## Data preprocessing"
   ]
  },
  {
   "cell_type": "code",
   "execution_count": null,
   "metadata": {},
   "outputs": [],
   "source": []
  },
  {
   "cell_type": "markdown",
   "metadata": {},
   "source": [
    "## Split, Train and Standardize the data"
   ]
  },
  {
   "cell_type": "code",
   "execution_count": null,
   "metadata": {},
   "outputs": [],
   "source": []
  },
  {
   "cell_type": "markdown",
   "metadata": {},
   "source": [
    "## Predict and Evaluate the model"
   ]
  }
 ],
 "metadata": {
  "kernelspec": {
   "display_name": "PythonData",
   "language": "python",
   "name": "pythondata"
  },
  "language_info": {
   "codemirror_mode": {
    "name": "ipython",
    "version": 3
   },
   "file_extension": ".py",
   "mimetype": "text/x-python",
   "name": "python",
   "nbconvert_exporter": "python",
   "pygments_lexer": "ipython3",
   "version": "3.8.3"
  }
 },
 "nbformat": 4,
 "nbformat_minor": 4
}
